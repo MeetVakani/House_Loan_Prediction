{
 "cells": [
  {
   "cell_type": "markdown",
   "id": "848af86b",
   "metadata": {},
   "source": [
    "# Loading packages"
   ]
  },
  {
   "cell_type": "code",
   "execution_count": 2,
   "id": "ca9089ad",
   "metadata": {},
   "outputs": [],
   "source": [
    "import pandas as pd\n",
    "import numpy as np\n",
    "import seaborn as sns\n",
    "import matplotlib.pyplot as plt"
   ]
  },
  {
   "cell_type": "markdown",
   "id": "bda1a8b4",
   "metadata": {},
   "source": [
    "# Data\n"
   ]
  },
  {
   "cell_type": "markdown",
   "id": "5ec89fe9",
   "metadata": {},
   "source": [
    "For this pertucular problem, we have two csv files 1) dataset for training and 2) dataset for testing. we will load both dataset accordingly."
   ]
  },
  {
   "cell_type": "code",
   "execution_count": 3,
   "id": "b8b945f2",
   "metadata": {},
   "outputs": [],
   "source": [
    "Train=pd.read_csv(\"train_ctrUa4K.csv\")\n",
    "Test=pd.read_csv(\"test_lAUu6dG.csv\")"
   ]
  },
  {
   "cell_type": "markdown",
   "id": "bcf231b8",
   "metadata": {},
   "source": [
    "Lets make the copy of this dataset so that even if we make changes in new dataset, we still have our original dataset."
   ]
  },
  {
   "cell_type": "code",
   "execution_count": 4,
   "id": "3811f5c4",
   "metadata": {},
   "outputs": [],
   "source": [
    "Train_original=Train.copy()\n",
    "Test_original=Test.copy()"
   ]
  },
  {
   "cell_type": "markdown",
   "id": "e43ba662",
   "metadata": {},
   "source": [
    "Now, lets check the colulmn name of both the dataset and their types"
   ]
  },
  {
   "cell_type": "code",
   "execution_count": 5,
   "id": "c39f1fd4",
   "metadata": {},
   "outputs": [
    {
     "data": {
      "text/plain": [
       "Index(['Loan_ID', 'Gender', 'Married', 'Dependents', 'Education',\n",
       "       'Self_Employed', 'ApplicantIncome', 'CoapplicantIncome', 'LoanAmount',\n",
       "       'Loan_Amount_Term', 'Credit_History', 'Property_Area', 'Loan_Status'],\n",
       "      dtype='object')"
      ]
     },
     "execution_count": 5,
     "metadata": {},
     "output_type": "execute_result"
    }
   ],
   "source": [
    "Train.columns"
   ]
  },
  {
   "cell_type": "code",
   "execution_count": 6,
   "id": "aae94900",
   "metadata": {},
   "outputs": [
    {
     "data": {
      "text/plain": [
       "Index(['Loan_ID', 'Gender', 'Married', 'Dependents', 'Education',\n",
       "       'Self_Employed', 'ApplicantIncome', 'CoapplicantIncome', 'LoanAmount',\n",
       "       'Loan_Amount_Term', 'Credit_History', 'Property_Area'],\n",
       "      dtype='object')"
      ]
     },
     "execution_count": 6,
     "metadata": {},
     "output_type": "execute_result"
    }
   ],
   "source": [
    "Test.columns"
   ]
  },
  {
   "cell_type": "code",
   "execution_count": 7,
   "id": "920b9c8d",
   "metadata": {},
   "outputs": [
    {
     "data": {
      "text/plain": [
       "Loan_ID               object\n",
       "Gender                object\n",
       "Married               object\n",
       "Dependents            object\n",
       "Education             object\n",
       "Self_Employed         object\n",
       "ApplicantIncome        int64\n",
       "CoapplicantIncome    float64\n",
       "LoanAmount           float64\n",
       "Loan_Amount_Term     float64\n",
       "Credit_History       float64\n",
       "Property_Area         object\n",
       "Loan_Status           object\n",
       "dtype: object"
      ]
     },
     "execution_count": 7,
     "metadata": {},
     "output_type": "execute_result"
    }
   ],
   "source": [
    "Train.dtypes"
   ]
  },
  {
   "cell_type": "code",
   "execution_count": 8,
   "id": "8077183c",
   "metadata": {},
   "outputs": [
    {
     "data": {
      "text/plain": [
       "Loan_ID               object\n",
       "Gender                object\n",
       "Married               object\n",
       "Dependents            object\n",
       "Education             object\n",
       "Self_Employed         object\n",
       "ApplicantIncome        int64\n",
       "CoapplicantIncome      int64\n",
       "LoanAmount           float64\n",
       "Loan_Amount_Term     float64\n",
       "Credit_History       float64\n",
       "Property_Area         object\n",
       "dtype: object"
      ]
     },
     "execution_count": 8,
     "metadata": {},
     "output_type": "execute_result"
    }
   ],
   "source": [
    "Test.dtypes"
   ]
  },
  {
   "cell_type": "markdown",
   "id": "0231031f",
   "metadata": {},
   "source": [
    "We can see that there are 3 major data types : Categorical, int64 and float64"
   ]
  },
  {
   "cell_type": "markdown",
   "id": "056fab93",
   "metadata": {},
   "source": [
    "Now lets check dimensions of both dataset.\n"
   ]
  },
  {
   "cell_type": "code",
   "execution_count": 9,
   "id": "8713ceee",
   "metadata": {},
   "outputs": [
    {
     "data": {
      "text/plain": [
       "((614, 13), (367, 12))"
      ]
     },
     "execution_count": 9,
     "metadata": {},
     "output_type": "execute_result"
    }
   ],
   "source": [
    "Train.shape , Test.shape"
   ]
  },
  {
   "cell_type": "markdown",
   "id": "2fc02e4c",
   "metadata": {},
   "source": [
    "We can clearly see that our train dataset is larger that our test dataset."
   ]
  },
  {
   "cell_type": "markdown",
   "id": "f252f939",
   "metadata": {},
   "source": [
    "# Univariate Analysis"
   ]
  },
  {
   "cell_type": "markdown",
   "id": "4d960837",
   "metadata": {},
   "source": [
    "Univariate analysis explores each variable in a data set, separately. It looks at the range of values, as well as the central tendency of the values. It describes the pattern of response to the variable. It describes each variable on its own. Descriptive statistics describe and summarize data."
   ]
  },
  {
   "cell_type": "markdown",
   "id": "b5f26dea",
   "metadata": {},
   "source": [
    "First of all, we will explore our target variable which is Loan_Status and it is a categorical variable.Hence, barchart will be best plot to understand variable."
   ]
  },
  {
   "cell_type": "code",
   "execution_count": 10,
   "id": "04c0639b",
   "metadata": {},
   "outputs": [
    {
     "data": {
      "text/plain": [
       "Y    422\n",
       "N    192\n",
       "Name: Loan_Status, dtype: int64"
      ]
     },
     "execution_count": 10,
     "metadata": {},
     "output_type": "execute_result"
    }
   ],
   "source": [
    "Train['Loan_Status'].value_counts()"
   ]
  },
  {
   "cell_type": "code",
   "execution_count": 11,
   "id": "d22a37a4",
   "metadata": {},
   "outputs": [
    {
     "data": {
      "text/plain": [
       "<AxesSubplot:>"
      ]
     },
     "execution_count": 11,
     "metadata": {},
     "output_type": "execute_result"
    },
    {
     "data": {
      "image/png": "[encoded data removed]",
      "text/plain": [
       "<Figure size 432x288 with 1 Axes>"
      ]
     },
     "metadata": {
      "needs_background": "light"
     },
     "output_type": "display_data"
    }
   ],
   "source": [
    "Train['Loan_Status'].value_counts().plot.bar()"
   ]
  },
  {
   "cell_type": "markdown",
   "id": "ef9cc016",
   "metadata": {},
   "source": [
    "We can see that more than 400 people had their loan approved while around 200 people's loan was not approved."
   ]
  },
  {
   "cell_type": "markdown",
   "id": "5960e3a6",
   "metadata": {},
   "source": [
    "Now, lets understand variable saperately according to their data types."
   ]
  },
  {
   "cell_type": "markdown",
   "id": "599c1c0a",
   "metadata": {},
   "source": [
    "Categorical variable :"
   ]
  },
  {
   "cell_type": "code",
   "execution_count": 12,
   "id": "10530633",
   "metadata": {},
   "outputs": [
    {
     "data": {
      "image/png": "[encoded data removed]",
      "text/plain": [
       "<Figure size 1440x720 with 4 Axes>"
      ]
     },
     "metadata": {
      "needs_background": "light"
     },
     "output_type": "display_data"
    }
   ],
   "source": [
    "plt.figure(1) , plt.subplot(221)\n",
    "\n",
    "Train['Gender'].value_counts (normalize=True). plot.bar(figsize=(20,10),\n",
    "\n",
    "title= 'Gender')\n",
    "\n",
    "plt.subplot(222)\n",
    "\n",
    "Train[ 'Married'].value_counts (normalize=True). plot.bar (title= 'Married')\n",
    "\n",
    "plt.subplot(223)\n",
    "\n",
    "Train[ 'Self_Employed'].value_counts (normalize=True). plot.bar(title=\n",
    "\n",
    "'Self Employed')\n",
    "\n",
    "plt.subplot(224)\n",
    "\n",
    "Train['Credit_History'].value_counts (normalize=True). plot.bar(title=\n",
    "\n",
    "'Credit History')\n",
    "\n",
    "plt.show()"
   ]
  },
  {
   "cell_type": "markdown",
   "id": "d008de13",
   "metadata": {},
   "source": [
    "It can be inferred from the above bar plots that:\n",
    "\n",
    "• 80% applicants in the dataset are male.\n",
    "\n",
    "• Around 65% of the applicants in the dataset are married.\n",
    "\n",
    "• Around 15% applicants in the dataset are self employed.\n",
    "\n",
    "• Around 85% applicants have repaid their debts.\n",
    "\n",
    "Now let's visualize the ordinal variables."
   ]
  },
  {
   "cell_type": "markdown",
   "id": "ca91e54c",
   "metadata": {},
   "source": [
    "Independent Variable (Ordinal):"
   ]
  },
  {
   "cell_type": "code",
   "execution_count": 13,
   "id": "7dc4b00b",
   "metadata": {
    "scrolled": false
   },
   "outputs": [
    {
     "data": {
      "image/png": "[encoded data removed]",
      "text/plain": [
       "<Figure size 1728x432 with 3 Axes>"
      ]
     },
     "metadata": {
      "needs_background": "light"
     },
     "output_type": "display_data"
    }
   ],
   "source": [
    "plt.figure(1) , plt.subplot(131) \n",
    "\n",
    "Train[ 'Dependents'].value_counts (normalize=True).plot.bar(figsize=(24,6),title='Dependents')\n",
    "plt.subplot(132)\n",
    "Train['Education'].value_counts (normalize=True).plot.bar(title='Education')\n",
    "plt.subplot(133)\n",
    "Train['Property_Area'].value_counts(normalize=True).plot.bar(title=\"Property_Area\")\n",
    "plt.show()"
   ]
  },
  {
   "cell_type": "markdown",
   "id": "4b60815f",
   "metadata": {},
   "source": [
    "Following inferences can be made from the above bar plots:\n",
    "\n",
    "-Most of the applicants don't have any dependents. \n",
    "\n",
    "-Around 80% of the applicants are Graduate.\n",
    "\n",
    "-Most of the applicants are from Semiurban area.\n",
    "\n",
    "Independent Variable (Numerical) :"
   ]
  },
  {
   "cell_type": "markdown",
   "id": "673a724f",
   "metadata": {},
   "source": [
    "\n",
    "Till now we have seen the categorical and ordinal variables and now lets visualize the numerical variables. Lets look at the distribution of Applicant income first."
   ]
  },
  {
   "cell_type": "code",
   "execution_count": 14,
   "id": "ce29b239",
   "metadata": {},
   "outputs": [
    {
     "name": "stderr",
     "output_type": "stream",
     "text": [
      "C:\\Users\\MEETS\\anaconda3\\lib\\site-packages\\seaborn\\distributions.py:2619: FutureWarning: `distplot` is a deprecated function and will be removed in a future version. Please adapt your code to use either `displot` (a figure-level function with similar flexibility) or `histplot` (an axes-level function for histograms).\n",
      "  warnings.warn(msg, FutureWarning)\n"
     ]
    },
    {
     "data": {
      "image/png": "[encoded data removed]",
      "text/plain": [
       "<Figure size 1152x360 with 2 Axes>"
      ]
     },
     "metadata": {
      "needs_background": "light"
     },
     "output_type": "display_data"
    }
   ],
   "source": [
    "plt.figure(1) , plt.subplot(121) \n",
    "sns.distplot (Train['ApplicantIncome']); \n",
    "plt.subplot(122) \n",
    "Train[ 'ApplicantIncome'].plot.box (figsize=(16,5)) \n",
    "plt.show()"
   ]
  },
  {
   "cell_type": "markdown",
   "id": "b4d1ee95",
   "metadata": {},
   "source": [
    "It can be inferred that most of the data in the distribution of applicant income is towards left which means it is not normally distributed. We will try to make it normal in later sections as algorithms works better if the data is normally distributed.\n",
    "\n",
    "The boxplot confirms the presence of a lot of outliers/extreme values. This can be attributed to the income disparity in the society. Part of this can be driven by the fact that we are looking at people with different education levels. \n",
    "\n",
    "Let us segregate them by Education:"
   ]
  },
  {
   "cell_type": "code",
   "execution_count": 15,
   "id": "149ded9b",
   "metadata": {},
   "outputs": [
    {
     "data": {
      "image/png": "[encoded data removed]",
      "text/plain": [
       "<Figure size 432x288 with 1 Axes>"
      ]
     },
     "metadata": {
      "needs_background": "light"
     },
     "output_type": "display_data"
    }
   ],
   "source": [
    "Train.boxplot(column='ApplicantIncome', by='Education')\n",
    "plt.suptitle(\"\")  # This line sets the title to an empty string\n",
    "plt.show()  # This line displays the boxplot\n"
   ]
  },
  {
   "cell_type": "markdown",
   "id": "b58f9dbf",
   "metadata": {},
   "source": [
    "Now we would like to know how well each feature correlate with Loan Status. So, in the next section we will look at bivariate analysis."
   ]
  },
  {
   "cell_type": "markdown",
   "id": "7d78d9ab",
   "metadata": {},
   "source": [
    "# Bivariate Analysis"
   ]
  },
  {
   "cell_type": "markdown",
   "id": "744f3224",
   "metadata": {},
   "source": [
    "Lets recall some of the hypotheses that we generated earlier:\n",
    "\n",
    "• Applicants with high income should have more chances of loan approval.\n",
    "\n",
    "• Applicants who have repaid their previous debts should have higher chances of loan approval.\n",
    "\n",
    "• Loan approval should also depend on the loan amount. If the loan amount is less, chances of loan approval should be high.\n",
    "\n",
    "• Lesser the amount to be paid monthly to repay the loan, higher the chances of loan approval.\n",
    "\n",
    "Lets try to test the above mentioned hypotheses using bivariate analysis\n",
    "\n",
    "After looking at every variable individually in univariate analysis, we will now explore them again with respect to the target variable."
   ]
  },
  {
   "cell_type": "markdown",
   "id": "6cf722d6",
   "metadata": {},
   "source": [
    "### Categorical Independent Variable VS Target Variable"
   ]
  },
  {
   "cell_type": "markdown",
   "id": "27c0ee4e",
   "metadata": {},
   "source": [
    "First of all we will find the relation between target variable and categorical independent variables. Let us look at the stacked bar plot now which will give us the proportion of approved and unapproved loans.\n"
   ]
  },
  {
   "cell_type": "code",
   "execution_count": 16,
   "id": "3f32f91b",
   "metadata": {},
   "outputs": [
    {
     "data": {
      "text/plain": [
       "<AxesSubplot:xlabel='Gender'>"
      ]
     },
     "execution_count": 16,
     "metadata": {},
     "output_type": "execute_result"
    },
    {
     "data": {
      "image/png": "[encoded data removed]",
      "text/plain": [
       "<Figure size 288x288 with 1 Axes>"
      ]
     },
     "metadata": {
      "needs_background": "light"
     },
     "output_type": "display_data"
    }
   ],
   "source": [
    "Gender=pd.crosstab(Train['Gender'], Train['Loan_Status']) \n",
    "Gender.div(Gender.sum(1).astype(float), axis=0).plot(kind=\"bar\", stacked=True, figsize=(4,4))"
   ]
  },
  {
   "cell_type": "markdown",
   "id": "fe2443c8",
   "metadata": {},
   "source": [
    "It can be inferred that the proportion of male and female applicants is more or less same for both approved and unapproved loans.\n",
    "\n",
    "Now let us visualize the remaining categorical variables vs target variable."
   ]
  },
  {
   "cell_type": "code",
   "execution_count": 17,
   "id": "7201deda",
   "metadata": {},
   "outputs": [
    {
     "data": {
      "image/png": "[encoded data removed]",
      "text/plain": [
       "<Figure size 288x288 with 1 Axes>"
      ]
     },
     "metadata": {
      "needs_background": "light"
     },
     "output_type": "display_data"
    },
    {
     "data": {
      "image/png": "[encoded data removed]",
      "text/plain": [
       "<Figure size 432x288 with 1 Axes>"
      ]
     },
     "metadata": {
      "needs_background": "light"
     },
     "output_type": "display_data"
    },
    {
     "data": {
      "image/png": "[encoded data removed]",
      "text/plain": [
       "<Figure size 288x288 with 1 Axes>"
      ]
     },
     "metadata": {
      "needs_background": "light"
     },
     "output_type": "display_data"
    },
    {
     "data": {
      "image/png": "[encoded data removed]",
      "text/plain": [
       "<Figure size 288x288 with 1 Axes>"
      ]
     },
     "metadata": {
      "needs_background": "light"
     },
     "output_type": "display_data"
    }
   ],
   "source": [
    "Married=pd.crosstab(Train['Married'], Train[ 'Loan_Status'])\n",
    "\n",
    "Dependents=pd.crosstab(Train[ 'Dependents'], Train['Loan_Status'])\n",
    "\n",
    "Education=pd.crosstab(Train[ 'Education'], Train['Loan_Status'])\n",
    "\n",
    "Self_Employed=pd.crosstab(Train [ 'Self_Employed' ], Train['Loan_Status'])\n",
    "\n",
    "Married.div(Married.sum (1).astype (float), axis=0).plot(kind=\"bar\", stacked=True, figsize=(4,4)) \n",
    "plt.show()\n",
    "\n",
    "Dependents.div(Dependents. sum(1).astype(float), axis=0).plot(kind=\"bar\", stacked=True) \n",
    "plt.show()\n",
    "\n",
    "Education.div(Education.sum(1).astype(float), axis=0).plot(kind=\"bar\", stacked=True, figsize=(4,4)) \n",
    "plt.show()\n",
    "\n",
    "Self_Employed.div(Self_Employed. sum(1).astype(float), axis=0).plot(kind=\"bar\", stacked=True, figsize=(4,4)) \n",
    "plt.show()"
   ]
  },
  {
   "cell_type": "markdown",
   "id": "dcb777f2",
   "metadata": {},
   "source": [
    "-Proportion of married applicants is higher for the approved loans.\n",
    "\n",
    "-Distribution of applicants with 1 or 3+ dependents is similar across both the categories of Loan_Status.\n",
    "\n",
    "-There is nothing significant we can infer from Self Employed vs Loan_Status plot.\n",
    "\n",
    "Now we will look at the relationship between remaining categorical independent variables and Loan_Status."
   ]
  },
  {
   "cell_type": "code",
   "execution_count": 18,
   "id": "ffeee2e7",
   "metadata": {},
   "outputs": [
    {
     "data": {
      "image/png": "[encoded data removed]",
      "text/plain": [
       "<Figure size 288x288 with 1 Axes>"
      ]
     },
     "metadata": {
      "needs_background": "light"
     },
     "output_type": "display_data"
    },
    {
     "data": {
      "image/png": "[encoded data removed]",
      "text/plain": [
       "<Figure size 432x288 with 1 Axes>"
      ]
     },
     "metadata": {
      "needs_background": "light"
     },
     "output_type": "display_data"
    }
   ],
   "source": [
    "Credit_History=pd.crosstab(Train[ 'Credit_History'], Train['Loan_Status'])\n",
    "\n",
    "Property_Area=pd.crosstab(Train['Property_Area'], Train['Loan_Status']) \n",
    "Credit_History.div(Credit_History.sum(1).astype(float), axis=0).plot(kind=\"bar\", stacked=True, figsize=(4,4)) \n",
    "plt.show() \n",
    "Property_Area.div(Property_Area.sum (1).astype(float), axis=0).plot(kind=\"bar\", stacked=True) \n",
    "plt.show()"
   ]
  },
  {
   "cell_type": "markdown",
   "id": "519de075",
   "metadata": {},
   "source": [
    "After exploring all the variables in our data, we can now impute the missing values and treat the outliers because missing data and outliers can have adverse effect on the model performance."
   ]
  },
  {
   "cell_type": "markdown",
   "id": "57544f7c",
   "metadata": {},
   "source": [
    "# Missing value imputation"
   ]
  },
  {
   "cell_type": "markdown",
   "id": "2bbe8641",
   "metadata": {},
   "source": [
    "Let's list out feature-wise count of missing values."
   ]
  },
  {
   "cell_type": "code",
   "execution_count": 19,
   "id": "bd4afd1e",
   "metadata": {},
   "outputs": [
    {
     "data": {
      "text/plain": [
       "Loan_ID               0\n",
       "Gender               13\n",
       "Married               3\n",
       "Dependents           15\n",
       "Education             0\n",
       "Self_Employed        32\n",
       "ApplicantIncome       0\n",
       "CoapplicantIncome     0\n",
       "LoanAmount           22\n",
       "Loan_Amount_Term     14\n",
       "Credit_History       50\n",
       "Property_Area         0\n",
       "Loan_Status           0\n",
       "dtype: int64"
      ]
     },
     "execution_count": 19,
     "metadata": {},
     "output_type": "execute_result"
    }
   ],
   "source": [
    "Train.isnull().sum()"
   ]
  },
  {
   "cell_type": "markdown",
   "id": "0d89f6ea",
   "metadata": {},
   "source": [
    "There are missing values in Gender, Married, Dependents, Self Employed, LoanAmount, Loan Amount Term and Credit History features.We will treat the missing values in all the features one by one.\n",
    "\n",
    "We can consider these methods to fill the missing values:\n",
    "\n",
    "• For numerical variables: imputation using mean or median\n",
    "\n",
    "• For categorical variables: imputation using mode\n",
    "\n",
    "There are very less missing values in Gender, Married, Dependents, Credit_History and Self Employed features so we can fill them using the mode of the features."
   ]
  },
  {
   "cell_type": "code",
   "execution_count": 20,
   "id": "6cb47bcb",
   "metadata": {},
   "outputs": [],
   "source": [
    "Train['Gender'].fillna(Train['Gender'].mode()[0], inplace=True) \n",
    "Train[ 'Married'].fillna(Train[ 'Married'].mode()[0], inplace=True) \n",
    "Train['Dependents'].fillna (Train[ 'Dependents'].mode()[0], inplace=True) \n",
    "Train[ 'Self_Employed'].fillna(Train['Self_Employed'].mode()[0], inplace=True) \n",
    "Train['Credit_History'].fillna(Train[ 'Credit_History'].mode() [0], inplace=True)"
   ]
  },
  {
   "cell_type": "markdown",
   "id": "b2cd662b",
   "metadata": {},
   "source": [
    "Now let's try to find a way to fill the missing values in Loan Amount Term. We will look at the value count of the Loan amount term variable."
   ]
  },
  {
   "cell_type": "code",
   "execution_count": 21,
   "id": "3b73df69",
   "metadata": {},
   "outputs": [
    {
     "data": {
      "text/plain": [
       "360.0    512\n",
       "180.0     44\n",
       "480.0     15\n",
       "300.0     13\n",
       "240.0      4\n",
       "84.0       4\n",
       "120.0      3\n",
       "60.0       2\n",
       "36.0       2\n",
       "12.0       1\n",
       "Name: Loan_Amount_Term, dtype: int64"
      ]
     },
     "execution_count": 21,
     "metadata": {},
     "output_type": "execute_result"
    }
   ],
   "source": [
    "Train['Loan_Amount_Term'].value_counts()"
   ]
  },
  {
   "cell_type": "markdown",
   "id": "77d442d7",
   "metadata": {},
   "source": [
    "It can be seen that in loan amount term variable, the value of 360 is repeating the most. So we will replace the missing values in this variable using the mode of this variable."
   ]
  },
  {
   "cell_type": "code",
   "execution_count": 22,
   "id": "b25e30e2",
   "metadata": {},
   "outputs": [],
   "source": [
    "Train['Loan_Amount_Term'].fillna(Train['Loan_Amount_Term'].mode()[0], inplace=True)"
   ]
  },
  {
   "cell_type": "markdown",
   "id": "52a5de52",
   "metadata": {},
   "source": [
    "Now we will see the LoanAmount variable. As it is a numerical variable, we can use mean or median to impute the missing values. We will use median to fill the null values as earlier we saw that loan amount have outliers so the mean will not be the proper approach as it is highly affected by the presence of outliers."
   ]
  },
  {
   "cell_type": "code",
   "execution_count": 23,
   "id": "c8b20abd",
   "metadata": {},
   "outputs": [],
   "source": [
    "Train['LoanAmount'].fillna(Train[ 'LoanAmount'].median(), inplace=True)"
   ]
  },
  {
   "cell_type": "markdown",
   "id": "c6859f23",
   "metadata": {},
   "source": [
    "Now lets check whether all the missing values are filled in the dataset.\n",
    "\n"
   ]
  },
  {
   "cell_type": "code",
   "execution_count": 24,
   "id": "360fe40b",
   "metadata": {},
   "outputs": [
    {
     "data": {
      "text/plain": [
       "Loan_ID              0\n",
       "Gender               0\n",
       "Married              0\n",
       "Dependents           0\n",
       "Education            0\n",
       "Self_Employed        0\n",
       "ApplicantIncome      0\n",
       "CoapplicantIncome    0\n",
       "LoanAmount           0\n",
       "Loan_Amount_Term     0\n",
       "Credit_History       0\n",
       "Property_Area        0\n",
       "Loan_Status          0\n",
       "dtype: int64"
      ]
     },
     "execution_count": 24,
     "metadata": {},
     "output_type": "execute_result"
    }
   ],
   "source": [
    "Train.isnull().sum()"
   ]
  },
  {
   "cell_type": "markdown",
   "id": "fe06ce8a",
   "metadata": {},
   "source": [
    "### Outlier Treatment"
   ]
  },
  {
   "cell_type": "markdown",
   "id": "f00ed176",
   "metadata": {},
   "source": [
    "As we saw earlier in univariate analysis, LoanAmount contains outliers so we have to treat them as the presence of outliers affects the distribution of the data. Let's examine what can happen to a data set with outliers. For the sample data set:\n",
    "1, 1, 2, 2, 2, 2, 3, 3, 3, 4,4\n",
    "\n",
    "We find the following: mean, median, mode, and standard deviation :\n",
    "Mean = 2.58\n",
    "Median = 2.5\n",
    "Mode = 2\n",
    "Standard Deviation = 1.08\n",
    "\n",
    "If we add an outlier to the data set:\n",
    "1.1.2.2.2, 2, 3, 3, 3, 4, 4, 400. \n",
    "The new values of our statistics are:\n",
    "Mean = 35.38\n",
    "Median = 2.5\n",
    "Mode = 2\n",
    "Standard Deviation = 114.74\n",
    "\n",
    "It can be seen that having outliers often has a significant effect on the mean and standard deviation and hence affecting the distribution. We must take steps to remove outliers from our data sets.Due to these outliers bulk of the data in the loan amount is at the left and the right tail is longer.\n",
    "\n",
    "This is called right skewness. One way to remove the skewness is by doing the log transformation. As we take the log transformation, it does not affect the smaller values much,but reduces the larger values. So, we get a distribution similar to normal distribution.\n",
    "\n",
    "Let's visualize the effect of log transformation. We will do the similar changes to the test file simultaneously."
   ]
  },
  {
   "cell_type": "code",
   "execution_count": 25,
   "id": "9bff416e",
   "metadata": {},
   "outputs": [
    {
     "data": {
      "image/png": "[encoded data removed]",
      "text/plain": [
       "<Figure size 432x288 with 1 Axes>"
      ]
     },
     "metadata": {
      "needs_background": "light"
     },
     "output_type": "display_data"
    }
   ],
   "source": [
    "Train['LoanAmount_log'] =np.log(Train['LoanAmount'])\n",
    "\n",
    "Train[ 'LoanAmount_log'].hist (bins=20) \n",
    "Test['LoanAmount_log'] =np.log(Test['LoanAmount'])"
   ]
  },
  {
   "cell_type": "markdown",
   "id": "ac659d0c",
   "metadata": {},
   "source": [
    "Now the distribution looks much closer to normal and effect of extreme values has been significantly subsided. Let's build a logistic regression model and make predictions for the test dataset."
   ]
  },
  {
   "cell_type": "markdown",
   "id": "fe488407",
   "metadata": {},
   "source": [
    "# Model Building : Part 1"
   ]
  },
  {
   "cell_type": "markdown",
   "id": "497e2aa0",
   "metadata": {},
   "source": [
    "Let us make our first model to predict the target variable. We will start with Logistic Regression which is used for predicting binary outcome.\n",
    "\n",
    "• Logistic Regression is a classification algorithm. It is used to predict a binary outcome (1/ 0. Yes/No, True/False) given a set of independent variables.\n",
    "\n",
    "Logistic regression is an estimation of Logit function. Logit function is simply a log of odds in favor of the event.\n",
    "\n",
    "• This function creates a s-shaped curve with the probability estimate, which is very similar to the required step wise function"
   ]
  },
  {
   "cell_type": "markdown",
   "id": "59f1ca82",
   "metadata": {},
   "source": [
    "Lets drop the Loan_ID variable as it do not have any effect on the loan status. We will do the same changes to the test dataset which we did for the training dataset.\n"
   ]
  },
  {
   "cell_type": "code",
   "execution_count": 26,
   "id": "6e0a0fe1",
   "metadata": {},
   "outputs": [],
   "source": [
    "Train=Train.drop(\"Loan_ID\",axis=1) \n",
    "Test=Test.drop(\"Loan_ID\", axis=1)\n"
   ]
  },
  {
   "cell_type": "markdown",
   "id": "df9abf65",
   "metadata": {},
   "source": [
    "\n",
    "We will use scikit-learn (sklearn) for making different models which is an open source library for Python. It is one of the most efficient tool which contains many Inbuilt functions that can be used for modeling in Python,"
   ]
  },
  {
   "cell_type": "markdown",
   "id": "01a4a7d8",
   "metadata": {},
   "source": [
    "Sklearn requires the target variable in a separate dataset. So, we will drop our target variable from the train dataset and save it in another dataset.\n"
   ]
  },
  {
   "cell_type": "code",
   "execution_count": 27,
   "id": "97ca4e71",
   "metadata": {},
   "outputs": [
    {
     "name": "stderr",
     "output_type": "stream",
     "text": [
      "C:\\Users\\MEETS\\AppData\\Local\\Temp\\ipykernel_6308\\928103247.py:1: FutureWarning: In a future version of pandas all arguments of DataFrame.drop except for the argument 'labels' will be keyword-only.\n",
      "  X=Train.drop('Loan_Status',1)\n"
     ]
    }
   ],
   "source": [
    "X=Train.drop('Loan_Status',1) \n",
    "y = Train.Loan_Status"
   ]
  },
  {
   "cell_type": "markdown",
   "id": "ea9b08e0",
   "metadata": {},
   "source": [
    "Now we will make dummy variables for the categorical variables. Dummy variable turns categorical variables into a series of 0 and 1, making them lot easier to quantify and compare. Let us understand the process of dummies first:\n",
    "\n",
    "• Consider the \"Gender\" variable. It has two classes, Male and Female.\n",
    "\n",
    "• As logistic regression takes only the numerical values as input, we have to change male and female into numerical value.\n",
    "\n",
    "Once we apply dummies to this variable, it will convert the \"Gender\" variable into two variables(Gender Male and Gender_Female), one for each class, I.e. Male and Female.\n",
    "\n",
    "• Gender Male will have a value of Oif the gender is Female and a value of 1 if the gender is Male."
   ]
  },
  {
   "cell_type": "code",
   "execution_count": 28,
   "id": "4bd31150",
   "metadata": {},
   "outputs": [],
   "source": [
    "X=pd.get_dummies(X) \n",
    "Train=pd.get_dummies(Train)\n",
    "Test=pd.get_dummies(Test)"
   ]
  },
  {
   "cell_type": "markdown",
   "id": "32d4a588",
   "metadata": {},
   "source": [
    "Now we will train the model on training dataset and make predictions for the test dataset. But can we validate these predictions? One way of doing this is we can divide our train dataset into two parts: train and validation. We can train the model on this train part and using that make predictions for the validation part. In this way we can validate our predictions as we have the true predictions for the validation part (which we do not have for the test dataset).\n",
    "\n",
    "We will use the train_test_split function from sklearn to divide our train dataset. So, first let us import train_test_split.\n",
    "\n",
    "from sklearn.model_selection import train_test_split\n"
   ]
  },
  {
   "cell_type": "code",
   "execution_count": 29,
   "id": "a81daa13",
   "metadata": {},
   "outputs": [],
   "source": [
    "from sklearn.model_selection import train_test_split\n",
    "x_train, x_cv, y_train, y_cv = train_test_split(X,y, test_size=0.3)"
   ]
  },
  {
   "cell_type": "markdown",
   "id": "58545e66",
   "metadata": {},
   "source": [
    "The dataset has been divided into training and validation part. Let us import LogisticRegression and accuracy score from sklearn and fit the logistic regression model.\n"
   ]
  },
  {
   "cell_type": "code",
   "execution_count": 30,
   "id": "3ecd9adb",
   "metadata": {},
   "outputs": [
    {
     "name": "stderr",
     "output_type": "stream",
     "text": [
      "C:\\Users\\MEETS\\anaconda3\\lib\\site-packages\\sklearn\\linear_model\\_logistic.py:814: ConvergenceWarning: lbfgs failed to converge (status=1):\n",
      "STOP: TOTAL NO. of ITERATIONS REACHED LIMIT.\n",
      "\n",
      "Increase the number of iterations (max_iter) or scale the data as shown in:\n",
      "    https://scikit-learn.org/stable/modules/preprocessing.html\n",
      "Please also refer to the documentation for alternative solver options:\n",
      "    https://scikit-learn.org/stable/modules/linear_model.html#logistic-regression\n",
      "  n_iter_i = _check_optimize_result(\n"
     ]
    },
    {
     "data": {
      "text/plain": [
       "LogisticRegression()"
      ]
     },
     "execution_count": 30,
     "metadata": {},
     "output_type": "execute_result"
    }
   ],
   "source": [
    "from sklearn.linear_model import LogisticRegression \n",
    "from sklearn.metrics import accuracy_score\n",
    "\n",
    "model=LogisticRegression() \n",
    "model.fit(x_train, y_train)"
   ]
  },
  {
   "cell_type": "code",
   "execution_count": 31,
   "id": "b5101299",
   "metadata": {},
   "outputs": [],
   "source": [
    "model = LogisticRegression(\n",
    "    C=1.0,\n",
    "    class_weight=None,\n",
    "    dual=False,\n",
    "    fit_intercept=True,\n",
    "    max_iter=100,\n",
    "    multi_class='ovr',\n",
    "    n_jobs=1,\n",
    "    solver='liblinear',\n",
    "    tol=0.0001,\n",
    "    penalty='l2',  # Corrected '12' to 'l2' as the penalty type\n",
    "    random_state=1,\n",
    "    verbose=0,\n",
    "    warm_start=False\n",
    ")\n"
   ]
  },
  {
   "cell_type": "markdown",
   "id": "ab1d4280",
   "metadata": {},
   "source": [
    "Here the C parameter represents inverse of regularization strength. Regularization is applying a penalty to increasing the magnitude of parameter values in order to reduce overfitting. Smaller values of C specify stronger regularization."
   ]
  },
  {
   "cell_type": "markdown",
   "id": "d841b809",
   "metadata": {},
   "source": [
    "Let's predict the Loan_Status for validation set and calculate its accuracy.\n"
   ]
  },
  {
   "cell_type": "code",
   "execution_count": 32,
   "id": "c78275f5",
   "metadata": {},
   "outputs": [],
   "source": [
    "model.fit(x_train, y_train)\n",
    "pred_cv= model.predict(x_cv)\n"
   ]
  },
  {
   "cell_type": "markdown",
   "id": "05527475",
   "metadata": {},
   "source": [
    "Let us calculate how accurate our predictions are by calculating the accuracy.\n",
    "\n"
   ]
  },
  {
   "cell_type": "code",
   "execution_count": 33,
   "id": "27bc2253",
   "metadata": {},
   "outputs": [
    {
     "data": {
      "text/plain": [
       "0.7891891891891892"
      ]
     },
     "execution_count": 33,
     "metadata": {},
     "output_type": "execute_result"
    }
   ],
   "source": [
    "accuracy = accuracy_score(y_cv, pred_cv)\n",
    "accuracy"
   ]
  },
  {
   "cell_type": "markdown",
   "id": "04b29e18",
   "metadata": {},
   "source": [
    "So our predictions are more than 80% , i.e. we have identified 80% of the loan status correctly.Let's make predictions for the test dataset.\n"
   ]
  },
  {
   "cell_type": "code",
   "execution_count": 34,
   "id": "81ef8a22",
   "metadata": {},
   "outputs": [
    {
     "data": {
      "text/plain": [
       "78.91891891891892"
      ]
     },
     "execution_count": 34,
     "metadata": {},
     "output_type": "execute_result"
    }
   ],
   "source": [
    "# Assuming 'test' is your test data\n",
    "has_nan = Test.isna().any().any()\n",
    "if has_nan:\n",
    "     Test.dropna(inplace=True) \n",
    "        \n",
    "from sklearn.preprocessing import StandardScaler\n",
    "scaler = StandardScaler()\n",
    "Test_scaled = scaler.fit_transform(Test)\n",
    "\n",
    "# Make predictions on the test set\n",
    "y_pred = model.predict(x_cv)\n",
    "\n",
    "# Calculate the accuracy for the test set as a percentage\n",
    "test_accuracy = accuracy_score(y_cv, y_pred) * 100\n",
    "test_accuracy"
   ]
  },
  {
   "cell_type": "markdown",
   "id": "f9a95840",
   "metadata": {},
   "source": [
    "# Feature Engineering"
   ]
  },
  {
   "cell_type": "markdown",
   "id": "4d0fc8d8",
   "metadata": {},
   "source": [
    "Based on the domain knowledge, we can come up with new features that might affect the target variable. We will create the following three new features:\n",
    "\n",
    "--> Total Income = As discussed during bivariate analysis we will combine the Applicant Income and Coapplicant Income. If the total income is high, chances of loan approval might also be high.\n",
    "\n",
    "-->EMI = EMI is the monthly amount to be paid by the applicant to repay the loan. Idea behind making this variable is that people who have high EMI's might find it difficult to pay back the loan. We can calculate the EMI by taking the ratio of loan amount with respect to loan amount term.\n",
    "\n",
    "--> Balance Income = This is the income left after the EMI has been paid. Idea behind creating this variable is that if this value is high, the chances are high that a person will repay the loan and hence increasing the chances of loan approval.\n",
    "\n"
   ]
  },
  {
   "cell_type": "code",
   "execution_count": 35,
   "id": "bbfbd08c",
   "metadata": {},
   "outputs": [
    {
     "name": "stderr",
     "output_type": "stream",
     "text": [
      "C:\\Users\\MEETS\\anaconda3\\lib\\site-packages\\seaborn\\distributions.py:2619: FutureWarning: `distplot` is a deprecated function and will be removed in a future version. Please adapt your code to use either `displot` (a figure-level function with similar flexibility) or `histplot` (an axes-level function for histograms).\n",
      "  warnings.warn(msg, FutureWarning)\n"
     ]
    },
    {
     "data": {
      "image/png": "[encoded data removed]",
      "text/plain": [
       "<Figure size 432x288 with 1 Axes>"
      ]
     },
     "metadata": {
      "needs_background": "light"
     },
     "output_type": "display_data"
    }
   ],
   "source": [
    "Train['Total_Income']=Train['ApplicantIncome']+Train['CoapplicantIncome'] \n",
    "Test['Total_Income']=Test['ApplicantIncome']+Test['CoapplicantIncome']\n",
    "sns.distplot(Train['Total_Income']);"
   ]
  },
  {
   "cell_type": "markdown",
   "id": "41dc2fb0",
   "metadata": {},
   "source": [
    "We can see it is shifted towards left, i.e., the distribution is right skewed. So, let's take the log transformation to make the distribution normal."
   ]
  },
  {
   "cell_type": "code",
   "execution_count": 36,
   "id": "2a82dcca",
   "metadata": {},
   "outputs": [
    {
     "name": "stderr",
     "output_type": "stream",
     "text": [
      "C:\\Users\\MEETS\\anaconda3\\lib\\site-packages\\seaborn\\distributions.py:2619: FutureWarning: `distplot` is a deprecated function and will be removed in a future version. Please adapt your code to use either `displot` (a figure-level function with similar flexibility) or `histplot` (an axes-level function for histograms).\n",
      "  warnings.warn(msg, FutureWarning)\n"
     ]
    },
    {
     "data": {
      "image/png": "[encoded data removed]",
      "text/plain": [
       "<Figure size 432x288 with 1 Axes>"
      ]
     },
     "metadata": {
      "needs_background": "light"
     },
     "output_type": "display_data"
    }
   ],
   "source": [
    "Train[ 'Total_Income_log']=np.log(Train['Total_Income']) \n",
    "sns.distplot(Train[ 'Total_Income_log'])\n",
    "Test['Total_Income_log']=np.log(Test['Total_Income'])"
   ]
  },
  {
   "cell_type": "markdown",
   "id": "01fa2d2b",
   "metadata": {},
   "source": [
    "Now the distribution looks much closer to normal and effect of extreme values has been significantly subsided. Let's create the EMI feature now.\n"
   ]
  },
  {
   "cell_type": "code",
   "execution_count": 37,
   "id": "eaa2c3f0",
   "metadata": {},
   "outputs": [
    {
     "name": "stderr",
     "output_type": "stream",
     "text": [
      "C:\\Users\\MEETS\\anaconda3\\lib\\site-packages\\seaborn\\distributions.py:2619: FutureWarning: `distplot` is a deprecated function and will be removed in a future version. Please adapt your code to use either `displot` (a figure-level function with similar flexibility) or `histplot` (an axes-level function for histograms).\n",
      "  warnings.warn(msg, FutureWarning)\n"
     ]
    },
    {
     "data": {
      "image/png": "[encoded data removed]",
      "text/plain": [
       "<Figure size 432x288 with 1 Axes>"
      ]
     },
     "metadata": {
      "needs_background": "light"
     },
     "output_type": "display_data"
    }
   ],
   "source": [
    "Train['EMI']=Train [ 'LoanAmount']/Train['Loan_Amount_Term'] \n",
    "Test['EMI']=Test['LoanAmount']/Test['Loan_Amount_Term']\n",
    "sns.distplot(Train['EMI']);"
   ]
  },
  {
   "cell_type": "markdown",
   "id": "56bc8844",
   "metadata": {},
   "source": [
    "Let us create Balance Income feature now and check its distribution."
   ]
  },
  {
   "cell_type": "code",
   "execution_count": 38,
   "id": "09ce802f",
   "metadata": {},
   "outputs": [
    {
     "name": "stderr",
     "output_type": "stream",
     "text": [
      "C:\\Users\\MEETS\\anaconda3\\lib\\site-packages\\seaborn\\distributions.py:2619: FutureWarning: `distplot` is a deprecated function and will be removed in a future version. Please adapt your code to use either `displot` (a figure-level function with similar flexibility) or `histplot` (an axes-level function for histograms).\n",
      "  warnings.warn(msg, FutureWarning)\n"
     ]
    },
    {
     "data": {
      "image/png": "[encoded data removed]",
      "text/plain": [
       "<Figure size 432x288 with 1 Axes>"
      ]
     },
     "metadata": {
      "needs_background": "light"
     },
     "output_type": "display_data"
    }
   ],
   "source": [
    "Train[ 'Balance Income']=Train['Total_Income'] - (Train['EMI']*1000) # Multiply with 1000 to make the units equal test['Balance Income']=test['Total_Income']-(test['EMI' ]*1000)\n",
    "sns.distplot(Train [ 'Balance Income']);"
   ]
  },
  {
   "cell_type": "markdown",
   "id": "7ca4617c",
   "metadata": {},
   "source": [
    "Let us now drop the variables which we used to create these new features. Reason for doing this is, the correlation between those old features and these new features will be very high and logistic regression assumes that the variables are not highly correlated. We also wants to remove the noise from the dataset, so removing correlated features will help in reducing the noise too."
   ]
  },
  {
   "cell_type": "code",
   "execution_count": 39,
   "id": "69aed76d",
   "metadata": {},
   "outputs": [],
   "source": [
    "Train=Train.drop(['ApplicantIncome', 'CoapplicantIncome', 'LoanAmount', 'Loan_Amount_Term'], axis=1) \n",
    "Test=Test.drop(['ApplicantIncome', 'CoapplicantIncome', 'LoanAmount', 'Loan_Amount_Term'], axis=1)"
   ]
  },
  {
   "cell_type": "markdown",
   "id": "d0303d6c",
   "metadata": {},
   "source": [
    "# Model Building : Part 2"
   ]
  },
  {
   "cell_type": "markdown",
   "id": "57b050a3",
   "metadata": {},
   "source": [
    "After creating new features, we can continue the model building process. So we will start with logistic regression model and then move over ot RandomForest.\n",
    "\n",
    "Let's prepare the data for feeding into the models"
   ]
  },
  {
   "cell_type": "markdown",
   "id": "da483af6",
   "metadata": {},
   "source": [
    "### Logistic Regression"
   ]
  },
  {
   "cell_type": "code",
   "execution_count": 58,
   "id": "50a60d90",
   "metadata": {},
   "outputs": [
    {
     "name": "stdout",
     "output_type": "stream",
     "text": [
      "\n",
      "Fold 1 of 5 K-Folds\n",
      "Accuracy score: 0.8048780487804879\n",
      "\n",
      "Fold 2 of 5 K-Folds\n",
      "Accuracy score: 0.8373983739837398\n",
      "\n",
      "Fold 3 of 5 K-Folds\n",
      "Accuracy score: 0.7804878048780488\n",
      "\n",
      "Fold 4 of 5 K-Folds\n",
      "Accuracy score: 0.7886178861788617\n",
      "\n",
      "Fold 5 of 5 K-Folds\n",
      "Accuracy score: 0.7950819672131147\n",
      "\n",
      "Average accuracy score across all folds: 0.8012928162068507\n"
     ]
    },
    {
     "name": "stderr",
     "output_type": "stream",
     "text": [
      "C:\\Users\\MEETS\\anaconda3\\lib\\site-packages\\sklearn\\linear_model\\_logistic.py:814: ConvergenceWarning: lbfgs failed to converge (status=1):\n",
      "STOP: TOTAL NO. of ITERATIONS REACHED LIMIT.\n",
      "\n",
      "Increase the number of iterations (max_iter) or scale the data as shown in:\n",
      "    https://scikit-learn.org/stable/modules/preprocessing.html\n",
      "Please also refer to the documentation for alternative solver options:\n",
      "    https://scikit-learn.org/stable/modules/linear_model.html#logistic-regression\n",
      "  n_iter_i = _check_optimize_result(\n",
      "C:\\Users\\MEETS\\anaconda3\\lib\\site-packages\\sklearn\\linear_model\\_logistic.py:814: ConvergenceWarning: lbfgs failed to converge (status=1):\n",
      "STOP: TOTAL NO. of ITERATIONS REACHED LIMIT.\n",
      "\n",
      "Increase the number of iterations (max_iter) or scale the data as shown in:\n",
      "    https://scikit-learn.org/stable/modules/preprocessing.html\n",
      "Please also refer to the documentation for alternative solver options:\n",
      "    https://scikit-learn.org/stable/modules/linear_model.html#logistic-regression\n",
      "  n_iter_i = _check_optimize_result(\n",
      "C:\\Users\\MEETS\\anaconda3\\lib\\site-packages\\sklearn\\linear_model\\_logistic.py:814: ConvergenceWarning: lbfgs failed to converge (status=1):\n",
      "STOP: TOTAL NO. of ITERATIONS REACHED LIMIT.\n",
      "\n",
      "Increase the number of iterations (max_iter) or scale the data as shown in:\n",
      "    https://scikit-learn.org/stable/modules/preprocessing.html\n",
      "Please also refer to the documentation for alternative solver options:\n",
      "    https://scikit-learn.org/stable/modules/linear_model.html#logistic-regression\n",
      "  n_iter_i = _check_optimize_result(\n",
      "C:\\Users\\MEETS\\anaconda3\\lib\\site-packages\\sklearn\\base.py:493: FutureWarning: The feature names should match those that were passed during fit. Starting version 1.2, an error will be raised.\n",
      "Feature names unseen at fit time:\n",
      "- EMI\n",
      "- Total_Income\n",
      "- Total_Income_log\n",
      "Feature names seen at fit time, yet now missing:\n",
      "- ApplicantIncome\n",
      "- CoapplicantIncome\n",
      "- LoanAmount\n",
      "- Loan_Amount_Term\n",
      "\n",
      "  warnings.warn(message, FutureWarning)\n"
     ]
    },
    {
     "ename": "ValueError",
     "evalue": "X has 20 features, but LogisticRegression is expecting 21 features as input.",
     "output_type": "error",
     "traceback": [
      "\u001b[1;31m---------------------------------------------------------------------------\u001b[0m",
      "\u001b[1;31mValueError\u001b[0m                                Traceback (most recent call last)",
      "Input \u001b[1;32mIn [58]\u001b[0m, in \u001b[0;36m<cell line: 26>\u001b[1;34m()\u001b[0m\n\u001b[0;32m     23\u001b[0m \u001b[38;5;28mprint\u001b[39m(\u001b[38;5;124m'\u001b[39m\u001b[38;5;130;01m\\n\u001b[39;00m\u001b[38;5;124mAverage accuracy score across all folds:\u001b[39m\u001b[38;5;124m'\u001b[39m, average_score)\n\u001b[0;32m     25\u001b[0m \u001b[38;5;66;03m# Assuming you want to predict using the model on a 'Test' dataset\u001b[39;00m\n\u001b[1;32m---> 26\u001b[0m pred_test \u001b[38;5;241m=\u001b[39m \u001b[43mmodel\u001b[49m\u001b[38;5;241;43m.\u001b[39;49m\u001b[43mpredict\u001b[49m\u001b[43m(\u001b[49m\u001b[43mTest\u001b[49m\u001b[43m)\u001b[49m\n\u001b[0;32m     27\u001b[0m pred_proba \u001b[38;5;241m=\u001b[39m model\u001b[38;5;241m.\u001b[39mpredict_proba(x_val)[:, \u001b[38;5;241m1\u001b[39m]\n",
      "File \u001b[1;32m~\\anaconda3\\lib\\site-packages\\sklearn\\linear_model\\_base.py:425\u001b[0m, in \u001b[0;36mLinearClassifierMixin.predict\u001b[1;34m(self, X)\u001b[0m\n\u001b[0;32m    411\u001b[0m \u001b[38;5;28;01mdef\u001b[39;00m \u001b[38;5;21mpredict\u001b[39m(\u001b[38;5;28mself\u001b[39m, X):\n\u001b[0;32m    412\u001b[0m     \u001b[38;5;124;03m\"\"\"\u001b[39;00m\n\u001b[0;32m    413\u001b[0m \u001b[38;5;124;03m    Predict class labels for samples in X.\u001b[39;00m\n\u001b[0;32m    414\u001b[0m \n\u001b[1;32m   (...)\u001b[0m\n\u001b[0;32m    423\u001b[0m \u001b[38;5;124;03m        Vector containing the class labels for each sample.\u001b[39;00m\n\u001b[0;32m    424\u001b[0m \u001b[38;5;124;03m    \"\"\"\u001b[39;00m\n\u001b[1;32m--> 425\u001b[0m     scores \u001b[38;5;241m=\u001b[39m \u001b[38;5;28;43mself\u001b[39;49m\u001b[38;5;241;43m.\u001b[39;49m\u001b[43mdecision_function\u001b[49m\u001b[43m(\u001b[49m\u001b[43mX\u001b[49m\u001b[43m)\u001b[49m\n\u001b[0;32m    426\u001b[0m     \u001b[38;5;28;01mif\u001b[39;00m \u001b[38;5;28mlen\u001b[39m(scores\u001b[38;5;241m.\u001b[39mshape) \u001b[38;5;241m==\u001b[39m \u001b[38;5;241m1\u001b[39m:\n\u001b[0;32m    427\u001b[0m         indices \u001b[38;5;241m=\u001b[39m (scores \u001b[38;5;241m>\u001b[39m \u001b[38;5;241m0\u001b[39m)\u001b[38;5;241m.\u001b[39mastype(\u001b[38;5;28mint\u001b[39m)\n",
      "File \u001b[1;32m~\\anaconda3\\lib\\site-packages\\sklearn\\linear_model\\_base.py:407\u001b[0m, in \u001b[0;36mLinearClassifierMixin.decision_function\u001b[1;34m(self, X)\u001b[0m\n\u001b[0;32m    387\u001b[0m \u001b[38;5;124;03m\"\"\"\u001b[39;00m\n\u001b[0;32m    388\u001b[0m \u001b[38;5;124;03mPredict confidence scores for samples.\u001b[39;00m\n\u001b[0;32m    389\u001b[0m \n\u001b[1;32m   (...)\u001b[0m\n\u001b[0;32m    403\u001b[0m \u001b[38;5;124;03m    this class would be predicted.\u001b[39;00m\n\u001b[0;32m    404\u001b[0m \u001b[38;5;124;03m\"\"\"\u001b[39;00m\n\u001b[0;32m    405\u001b[0m check_is_fitted(\u001b[38;5;28mself\u001b[39m)\n\u001b[1;32m--> 407\u001b[0m X \u001b[38;5;241m=\u001b[39m \u001b[38;5;28;43mself\u001b[39;49m\u001b[38;5;241;43m.\u001b[39;49m\u001b[43m_validate_data\u001b[49m\u001b[43m(\u001b[49m\u001b[43mX\u001b[49m\u001b[43m,\u001b[49m\u001b[43m \u001b[49m\u001b[43maccept_sparse\u001b[49m\u001b[38;5;241;43m=\u001b[39;49m\u001b[38;5;124;43m\"\u001b[39;49m\u001b[38;5;124;43mcsr\u001b[39;49m\u001b[38;5;124;43m\"\u001b[39;49m\u001b[43m,\u001b[49m\u001b[43m \u001b[49m\u001b[43mreset\u001b[49m\u001b[38;5;241;43m=\u001b[39;49m\u001b[38;5;28;43;01mFalse\u001b[39;49;00m\u001b[43m)\u001b[49m\n\u001b[0;32m    408\u001b[0m scores \u001b[38;5;241m=\u001b[39m safe_sparse_dot(X, \u001b[38;5;28mself\u001b[39m\u001b[38;5;241m.\u001b[39mcoef_\u001b[38;5;241m.\u001b[39mT, dense_output\u001b[38;5;241m=\u001b[39m\u001b[38;5;28;01mTrue\u001b[39;00m) \u001b[38;5;241m+\u001b[39m \u001b[38;5;28mself\u001b[39m\u001b[38;5;241m.\u001b[39mintercept_\n\u001b[0;32m    409\u001b[0m \u001b[38;5;28;01mreturn\u001b[39;00m scores\u001b[38;5;241m.\u001b[39mravel() \u001b[38;5;28;01mif\u001b[39;00m scores\u001b[38;5;241m.\u001b[39mshape[\u001b[38;5;241m1\u001b[39m] \u001b[38;5;241m==\u001b[39m \u001b[38;5;241m1\u001b[39m \u001b[38;5;28;01melse\u001b[39;00m scores\n",
      "File \u001b[1;32m~\\anaconda3\\lib\\site-packages\\sklearn\\base.py:585\u001b[0m, in \u001b[0;36mBaseEstimator._validate_data\u001b[1;34m(self, X, y, reset, validate_separately, **check_params)\u001b[0m\n\u001b[0;32m    582\u001b[0m     out \u001b[38;5;241m=\u001b[39m X, y\n\u001b[0;32m    584\u001b[0m \u001b[38;5;28;01mif\u001b[39;00m \u001b[38;5;129;01mnot\u001b[39;00m no_val_X \u001b[38;5;129;01mand\u001b[39;00m check_params\u001b[38;5;241m.\u001b[39mget(\u001b[38;5;124m\"\u001b[39m\u001b[38;5;124mensure_2d\u001b[39m\u001b[38;5;124m\"\u001b[39m, \u001b[38;5;28;01mTrue\u001b[39;00m):\n\u001b[1;32m--> 585\u001b[0m     \u001b[38;5;28;43mself\u001b[39;49m\u001b[38;5;241;43m.\u001b[39;49m\u001b[43m_check_n_features\u001b[49m\u001b[43m(\u001b[49m\u001b[43mX\u001b[49m\u001b[43m,\u001b[49m\u001b[43m \u001b[49m\u001b[43mreset\u001b[49m\u001b[38;5;241;43m=\u001b[39;49m\u001b[43mreset\u001b[49m\u001b[43m)\u001b[49m\n\u001b[0;32m    587\u001b[0m \u001b[38;5;28;01mreturn\u001b[39;00m out\n",
      "File \u001b[1;32m~\\anaconda3\\lib\\site-packages\\sklearn\\base.py:400\u001b[0m, in \u001b[0;36mBaseEstimator._check_n_features\u001b[1;34m(self, X, reset)\u001b[0m\n\u001b[0;32m    397\u001b[0m     \u001b[38;5;28;01mreturn\u001b[39;00m\n\u001b[0;32m    399\u001b[0m \u001b[38;5;28;01mif\u001b[39;00m n_features \u001b[38;5;241m!=\u001b[39m \u001b[38;5;28mself\u001b[39m\u001b[38;5;241m.\u001b[39mn_features_in_:\n\u001b[1;32m--> 400\u001b[0m     \u001b[38;5;28;01mraise\u001b[39;00m \u001b[38;5;167;01mValueError\u001b[39;00m(\n\u001b[0;32m    401\u001b[0m         \u001b[38;5;124mf\u001b[39m\u001b[38;5;124m\"\u001b[39m\u001b[38;5;124mX has \u001b[39m\u001b[38;5;132;01m{\u001b[39;00mn_features\u001b[38;5;132;01m}\u001b[39;00m\u001b[38;5;124m features, but \u001b[39m\u001b[38;5;132;01m{\u001b[39;00m\u001b[38;5;28mself\u001b[39m\u001b[38;5;241m.\u001b[39m\u001b[38;5;18m__class__\u001b[39m\u001b[38;5;241m.\u001b[39m\u001b[38;5;18m__name__\u001b[39m\u001b[38;5;132;01m}\u001b[39;00m\u001b[38;5;124m \u001b[39m\u001b[38;5;124m\"\u001b[39m\n\u001b[0;32m    402\u001b[0m         \u001b[38;5;124mf\u001b[39m\u001b[38;5;124m\"\u001b[39m\u001b[38;5;124mis expecting \u001b[39m\u001b[38;5;132;01m{\u001b[39;00m\u001b[38;5;28mself\u001b[39m\u001b[38;5;241m.\u001b[39mn_features_in_\u001b[38;5;132;01m}\u001b[39;00m\u001b[38;5;124m features as input.\u001b[39m\u001b[38;5;124m\"\u001b[39m\n\u001b[0;32m    403\u001b[0m     )\n",
      "\u001b[1;31mValueError\u001b[0m: X has 20 features, but LogisticRegression is expecting 21 features as input."
     ]
    }
   ],
   "source": [
    "from sklearn.model_selection import StratifiedKFold\n",
    "\n",
    "i = 1\n",
    "kf = StratifiedKFold(n_splits=5, random_state=1, shuffle=True)\n",
    "scores = []  # To store accuracy scores\n",
    "\n",
    "for train_index, test_index in kf.split(X, y):\n",
    "    print('\\nFold {} of {} K-Folds'.format(i, kf.n_splits))\n",
    "    x_train, x_val = X.loc[train_index], X.loc[test_index]\n",
    "    y_train, y_val = y[train_index], y[test_index]\n",
    "    \n",
    "    model = LogisticRegression(random_state=1)\n",
    "    model.fit(x_train, y_train)\n",
    "    \n",
    "    pred_val = model.predict(x_val)\n",
    "    score = accuracy_score(y_val, pred_val)\n",
    "    scores.append(score)\n",
    "    \n",
    "    print('Accuracy score:', score)\n",
    "    i += 1\n",
    "\n",
    "average_score = np.mean(scores)\n",
    "print('\\nAverage accuracy score across all folds:', average_score)\n",
    "\n",
    "# Assuming you want to predict using the model on a 'Test' dataset\n",
    "pred_test = model.predict(Test)\n",
    "pred_proba = model.predict_proba(x_val)[:, 1]\n"
   ]
  },
  {
   "cell_type": "markdown",
   "id": "9a38f58f",
   "metadata": {},
   "source": [
    "The mean validation accuracy for this model is 0.812"
   ]
  },
  {
   "cell_type": "markdown",
   "id": "c977fe12",
   "metadata": {},
   "source": [
    "### Random forest"
   ]
  },
  {
   "cell_type": "markdown",
   "id": "5acc8766",
   "metadata": {},
   "source": [
    "-RandomForest is a tree based bootstrapping algorithm wherein a certain no. of weak learners (decision trees) are combined to make a powerful prediction model.\n",
    "\n",
    "-For every individual learner, a random sample of rows and a few randomly chosen variables are used to build a decision tree model.\n",
    "\n",
    "-Final prediction can be a function of all the predictions made by the individual learners.\n",
    "\n",
    "-In case of regression problem, the final prediction can be mean of all the predictions."
   ]
  },
  {
   "cell_type": "code",
   "execution_count": 61,
   "id": "45f0de09",
   "metadata": {},
   "outputs": [
    {
     "name": "stdout",
     "output_type": "stream",
     "text": [
      "\n",
      "Fold 1 of 5\n",
      "Accuracy score: 0.8130081300813008\n",
      "\n",
      "Fold 2 of 5\n",
      "Accuracy score: 0.8373983739837398\n",
      "\n",
      "Fold 3 of 5\n",
      "Accuracy score: 0.7804878048780488\n",
      "\n",
      "Fold 4 of 5\n",
      "Accuracy score: 0.8130081300813008\n",
      "\n",
      "Fold 5 of 5\n",
      "Accuracy score: 0.7622950819672131\n",
      "\n",
      "Average validation accuracy score: 0.8012395041983206\n"
     ]
    }
   ],
   "source": [
    "from sklearn.model_selection import StratifiedKFold\n",
    "from sklearn.ensemble import RandomForestClassifier\n",
    "from sklearn.metrics import accuracy_score\n",
    "\n",
    "i = 1\n",
    "kf = StratifiedKFold(n_splits=5, random_state=1, shuffle=True)\n",
    "scores = []  # To store accuracy scores\n",
    "\n",
    "for Train_index, Test_index in kf.split(X, y):\n",
    "    print('\\nFold {} of {}'.format(i, kf.n_splits))\n",
    "    \n",
    "    xtr, xvl = X.loc[Train_index], X.loc[Test_index]\n",
    "    ytr, yvl = y[Train_index], y[Test_index]\n",
    "    \n",
    "    model = RandomForestClassifier(random_state=1, max_depth=10)\n",
    "    model.fit(xtr, ytr)\n",
    "    \n",
    "    pred_Test = model.predict(xvl)\n",
    "    score = accuracy_score(yvl, pred_Test)\n",
    "    \n",
    "    scores.append(score)\n",
    "    print('Accuracy score:', score)\n",
    "    \n",
    "    i += 1\n",
    "\n",
    "# Calculate and print the average accuracy score across all folds\n",
    "average_score = sum(scores) / len(scores)\n",
    "print('\\nAverage validation accuracy score:', average_score)\n",
    "\n"
   ]
  },
  {
   "cell_type": "markdown",
   "id": "e62baaf2",
   "metadata": {},
   "source": [
    "The mean validation accuracy for this model is 0.801"
   ]
  },
  {
   "cell_type": "markdown",
   "id": "c86dd886",
   "metadata": {},
   "source": [
    "Here, we can use Logistic regression model as it seems slight better than Random Forest for this case."
   ]
  }
 ],
 "metadata": {
  "kernelspec": {
   "display_name": "Python 3 (ipykernel)",
   "language": "python",
   "name": "python3"
  },
  "language_info": {
   "codemirror_mode": {
    "name": "ipython",
    "version": 3
   },
   "file_extension": ".py",
   "mimetype": "text/x-python",
   "name": "python",
   "nbconvert_exporter": "python",
   "pygments_lexer": "ipython3",
   "version": "3.9.12"
  }
 },
 "nbformat": 4,
 "nbformat_minor": 5
}
